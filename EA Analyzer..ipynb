{
 "cells": [
  {
   "cell_type": "markdown",
   "id": "b26157e0",
   "metadata": {},
   "source": [
    "# -- \"Evolutionary Algorithm Performance Analyzer\""
   ]
  },
  {
   "cell_type": "markdown",
   "id": "9554e962",
   "metadata": {},
   "source": [
    "# Code Block 1: Importing Required Libraries\n",
    "\n",
    "In this code block, we import two essential Python libraries to support our optimization and data visualization tasks.\n",
    "\n",
    "## 1. numpy (Numerical Python)\n",
    "- **Purpose:** This library is a fundamental package for scientific computing in Python.\n",
    "- **Functionality:** It provides support for arrays and matrices, along with a collection of mathematical functions to operate on these arrays.\n",
    "- **Usage:** We will utilize numpy for efficient data manipulation and mathematical operations during the optimization process.\n",
    "\n",
    "## 2. matplotlib.pyplot\n",
    "- **Purpose:** This library is a popular data visualization tool in Python.\n",
    "- **Functionality:** It allows you to create various types of plots, charts, and graphs for data visualization and analysis.\n",
    "- **Usage:** matplotlib.pyplot will be employed to visualize the performance and results of our optimization algorithms.\n",
    "\n",
    "These libraries serve as the foundation for conducting optimization and creating insightful visualizations of the optimization process.\n"
   ]
  },
  {
   "cell_type": "code",
   "execution_count": 15,
   "id": "7b963f62",
   "metadata": {},
   "outputs": [],
   "source": [
    "import numpy as np\n",
    "import matplotlib.pyplot as plt"
   ]
  },
  {
   "cell_type": "markdown",
   "id": "5228fe43",
   "metadata": {},
   "source": [
    "# Code Block 2: Adding Problems and Parameters for PSO and GWO\n",
    "\n",
    "In this code block, we set up different optimization problems and parameters for the Particle Swarm Optimization (PSO) and Grey Wolf Optimization (GWO) algorithms. It allows users to configure various problem instances and algorithm settings for experimentation.\n",
    "\n",
    "## Purpose:\n",
    "- This code block serves the purpose of defining the problems and parameters that will be used to test the PSO and GWO optimization algorithms.\n",
    "\n",
    "## Configuration:\n",
    "- You can define different optimization problems by specifying the number of dimensions, particles, and iterations.\n",
    "- You can also adjust the algorithm parameters, such as inertia weight, cognitive weight, and social weight for PSO.\n",
    "\n",
    "## Customization:\n",
    "- To experiment with different optimization scenarios, you can customize the following:\n",
    "  - `num_dimensions`: The number of dimensions for the optimization problem.\n",
    "  - `num_particles`: The number of particles in the PSO algorithm.\n",
    "  - `num_iterations`: The number of iterations for both PSO and GWO.\n",
    "  - `inertia_weight`: The inertia weight for PSO to balance exploration and exploitation.\n",
    "  - `cognitive_weight`: The cognitive weight for personal best update in PSO.\n",
    "  - `social_weight`: The social weight for global best update in PSO.\n",
    "\n",
    "By customizing these parameters and problem instances, users can explore the behavior of the PSO and GWO algorithms for different optimization scenarios and benchmark their performance on various optimization problems.\n"
   ]
  },
  {
   "cell_type": "code",
   "execution_count": 22,
   "id": "0bddf857",
   "metadata": {},
   "outputs": [],
   "source": [
    "# Desired Optimization problem.\n",
    "def sphere_function(x):\n",
    "    return np.sum(x ** 2)\n",
    "\n",
    "#Parameters for GWO function\n",
    "\n",
    "num_wolves = 30\n",
    "num_dimensions = 2\n",
    "num_iterations = 100\n",
    "\n",
    "#Parameters for PSO function\n",
    "\n",
    "dim = 2\n",
    "num_particles = 30\n",
    "num_iterations = 100\n",
    "inertia_weight = 0.7\n",
    "cognitive_weight = 1.5\n",
    "social_weight = 1.5\n"
   ]
  },
  {
   "cell_type": "markdown",
   "id": "210d5c22",
   "metadata": {},
   "source": [
    "# Code Block 3: Particle Swarm Optimization Implementation\n",
    "\n",
    "In this code block, we define the `Particle` class and the `particle_swarm_optimization` function. This implementation sets the stage for Particle Swarm Optimization (PSO), a popular optimization algorithm, and allows us to optimize a target function.\n",
    "\n",
    "## 1. Particle Class Definition\n",
    "\n",
    "The `Particle` class represents an individual particle in the PSO algorithm.\n",
    "\n",
    "- **Constructor (`__init__` method):**\n",
    "  - `self.position`: Initializes the particle's position with random values within the range [-5.12, 5.12] in each dimension.\n",
    "  - `self.velocity`: Initializes the particle's velocity with random values within the range [-1, 1] in each dimension.\n",
    "  - `self.best_position`: Initializes the particle's best position with its initial position.\n",
    "  - `self.best_value`: Initializes the particle's best value by evaluating the Sphere Function at its initial position.\n",
    "\n",
    "## 2. Particle Swarm Optimization Algorithm\n",
    "\n",
    "The `particle_swarm_optimization` function defines the PSO algorithm.\n",
    "\n",
    "- **Parameters:**\n",
    "  - `dim`: Number of dimensions for the optimization problem.\n",
    "  - `num_particles`: Number of particles in the swarm.\n",
    "  - `num_iterations`: Number of iterations for the optimization process.\n",
    "  - `inertia_weight`: Inertia weight to balance the trade-off between exploration and exploitation.\n",
    "  - `cognitive_weight`: Cognitive weight for personal best update.\n",
    "  - `social_weight`: Social weight for global best update.\n",
    "\n",
    "- **Implementation:**\n",
    "  - The algorithm initializes a swarm of particles with random positions and velocities.\n",
    "  - It iteratively updates the particles' positions and velocities based on the PSO equations.\n",
    "  - The personal best positions and global best positions are updated if a better solution is found.\n",
    "  - The algorithm returns the global best position and its corresponding value.\n",
    "\n",
    "This implementation forms the core of the Particle Swarm Optimization algorithm and will be used to optimize the Sphere Function or other target functions.\n"
   ]
  },
  {
   "cell_type": "code",
   "execution_count": 17,
   "id": "aaaf0b56",
   "metadata": {},
   "outputs": [],
   "source": [
    "# Define the Particle class\n",
    "class Particle:\n",
    "    def __init__(self, dim):\n",
    "        self.position = np.random.uniform(-5.12, 5.12, dim)\n",
    "        self.velocity = np.random.uniform(-1, 1, dim)\n",
    "        self.best_position = self.position\n",
    "        self.best_value = sphere_function(self.position)\n",
    "\n",
    "# Define the Particle Swarm Optimization algorithm\n",
    "def particle_swarm_optimization(dim, num_particles, num_iterations, inertia_weight, cognitive_weight, social_weight):\n",
    "    particles = [Particle(dim) for _ in range(num_particles)]\n",
    "    global_best = min(particles, key=lambda p: p.best_value)\n",
    "\n",
    "    for iteration in range(num_iterations):\n",
    "        for particle in particles:\n",
    "            # Update particle velocity and position\n",
    "            r1, r2 = np.random.rand(), np.random.rand()\n",
    "            particle.velocity = (inertia_weight * particle.velocity +\n",
    "                                 cognitive_weight * r1 * (particle.best_position - particle.position) +\n",
    "                                 social_weight * r2 * (global_best.best_position - particle.position))\n",
    "            particle.position += particle.velocity\n",
    "\n",
    "            # Update personal best\n",
    "            current_value = sphere_function(particle.position)\n",
    "            if current_value < particle.best_value:\n",
    "                particle.best_position = particle.position\n",
    "                particle.best_value = current_value\n",
    "\n",
    "            # Update global best\n",
    "            if current_value < global_best.best_value:\n",
    "                global_best = particle\n",
    "\n",
    "    return global_best.best_position, global_best.best_value\n"
   ]
  },
  {
   "cell_type": "code",
   "execution_count": 18,
   "id": "ead026e9",
   "metadata": {},
   "outputs": [
    {
     "name": "stdout",
     "output_type": "stream",
     "text": [
      "Best Solution: [ 1.58317066 -3.63196846]\n",
      "Best Value: 0.003141736328453351\n"
     ]
    }
   ],
   "source": [
    "if __name__ == \"__main__\":\n",
    "\n",
    "    best_solution, best_value = particle_swarm_optimization(dim, num_particles, num_iterations, inertia_weight, cognitive_weight, social_weight)\n",
    "    \n",
    "    print(\"Best Solution:\", best_solution)\n",
    "    print(\"Best Value:\", best_value)\n"
   ]
  },
  {
   "cell_type": "markdown",
   "id": "1cc34954",
   "metadata": {},
   "source": [
    "# Code Block 4: Grey Wolf Optimization Implementation\n",
    "\n",
    "In this code block, we implement the Grey Wolf Optimization (GWO) algorithm for optimizing a target function. GWO is a nature-inspired optimization algorithm inspired by the hunting behavior of grey wolves.\n",
    "\n",
    "## 1. `initialize_population` Function\n",
    "\n",
    "This function initializes the population of grey wolves.\n",
    "\n",
    "- **Parameters:**\n",
    "  - `num_wolves`: The number of grey wolves in the population.\n",
    "  - `num_dimensions`: The number of dimensions for the optimization problem.\n",
    "\n",
    "- **Return Value:**\n",
    "  - Returns a 2D array representing the initial positions of the grey wolves. Each row corresponds to a wolf, and each column corresponds to a dimension.\n",
    "\n",
    "## 2. `grey_wolf_optimization` Function\n",
    "\n",
    "The `grey_wolf_optimization` function defines the main GWO optimization process.\n",
    "\n",
    "- **Parameters:**\n",
    "  - `num_wolves`: The number of grey wolves in the population.\n",
    "  - `num_dimensions`: The number of dimensions for the optimization problem.\n",
    "  - `num_iterations`: The number of iterations for the optimization process.\n",
    "\n",
    "- **Implementation:**\n",
    "  - The algorithm starts by initializing the population of grey wolves using `initialize_population`.\n",
    "  - It maintains a list of fitness values for each wolf's position.\n",
    "  - During each iteration, the algorithm adjusts the alpha, beta, and delta wolves based on the fitness values.\n",
    "  - It updates the position of each wolf based on the GWO equations, which simulate the hunting behavior of wolves.\n",
    "  - The best solution is determined based on the wolf with the lowest fitness value, and it is returned.\n",
    "\n",
    "This implementation allows us to apply the Grey Wolf Optimization algorithm to optimize a target function, such as the Sphere Function, for various applications.\n"
   ]
  },
  {
   "cell_type": "code",
   "execution_count": 19,
   "id": "e3780423",
   "metadata": {},
   "outputs": [],
   "source": [
    "def initialize_population(num_wolves, num_dimensions):\n",
    "    return np.random.uniform(-5.12, 5.12, (num_wolves, num_dimensions))\n",
    "\n",
    "def grey_wolf_optimization(num_wolves, num_dimensions, num_iterations):\n",
    "    population = initialize_population(num_wolves, num_dimensions)\n",
    "    fitness_values = [sphere_function(x) for x in population]\n",
    "    \n",
    "    for iteration in range(num_iterations):\n",
    "        a = 2 - iteration * (2 / num_iterations)\n",
    "        \n",
    "        alpha, beta, delta = sorted(range(len(fitness_values)), key=lambda i: fitness_values[i])[:3]\n",
    "        \n",
    "        for i in range(num_wolves):\n",
    "            x_i = population[i]\n",
    "            fitness_x_i = fitness_values[i]\n",
    "            \n",
    "            A = 2 * a * np.random.rand(num_dimensions) - a\n",
    "            \n",
    "            D_alpha = np.abs(2 * A * population[alpha] - x_i)\n",
    "            D_beta = np.abs(2 * A * population[beta] - x_i)\n",
    "            D_delta = np.abs(2 * A * population[delta] - x_i)\n",
    "            \n",
    "            X1 = population[alpha] - D_alpha\n",
    "            X2 = population[beta] - D_beta\n",
    "            X3 = population[delta] - D_delta\n",
    "            \n",
    "            population[i] = (X1 + X2 + X3) / 3\n",
    "            fitness_values[i] = sphere_function(population[i])\n",
    "            \n",
    "    best_index = np.argmin(fitness_values)\n",
    "    best_solution = population[best_index]\n",
    "    best_value = fitness_values[best_index]\n",
    "    \n",
    "    return best_solution, best_value\n",
    "\n"
   ]
  },
  {
   "cell_type": "code",
   "execution_count": 20,
   "id": "6785e0a4",
   "metadata": {},
   "outputs": [
    {
     "name": "stdout",
     "output_type": "stream",
     "text": [
      "Best Solution (GWO): [-5.26112277e+43 -4.26817669e+43]\n",
      "Best Value (GWO): 4.5896745076816e+87\n"
     ]
    }
   ],
   "source": [
    "if __name__ == \"__main__\":\n",
    "    \n",
    "    best_solution, best_value = grey_wolf_optimization(num_wolves, num_dimensions, num_iterations)\n",
    "    \n",
    "    print(\"Best Solution (GWO):\", best_solution)\n",
    "    print(\"Best Value (GWO):\", best_value)"
   ]
  },
  {
   "cell_type": "markdown",
   "id": "1bf835ba",
   "metadata": {},
   "source": [
    "# Code Block 5: Running PSO and GWO and Plotting Convergence\n",
    "\n",
    "In this code block, we run both the Particle Swarm Optimization (PSO) and Grey Wolf Optimization (GWO) algorithms to optimize a target function. After running the algorithms, we also plot their convergence curves to visualize their performance.\n",
    "\n",
    "## Running PSO and GWO\n",
    "- **Purpose:**\n",
    "  - We run the PSO and GWO algorithms to optimize the target function.\n",
    "- **Parameters:**\n",
    "  - `num_dimensions`: The number of dimensions for the optimization problem.\n",
    "  - `num_particles`: The number of particles in the PSO algorithm.\n",
    "  - `num_iterations`: The number of iterations for both PSO and GWO.\n",
    "- **Execution:**\n",
    "  - We run PSO and GWO using the specified parameters, which includes setting the inertia weight, cognitive weight, and social weight for PSO.\n",
    "  - The best solutions and values obtained by PSO and GWO are stored in `pso_best_solution`, `pso_best_value`, `gwo_best_solution`, and `gwo_best_value`.\n",
    "  - We also print the results to the console.\n",
    "\n",
    "## Plotting Convergence Curves\n",
    "- **Purpose:**\n",
    "  - We visualize the convergence of the PSO and GWO algorithms by plotting their best values over the iterations.\n",
    "- **Execution:**\n",
    "  - We create empty lists, `pso_values` and `gwo_values`, to store the best values for each algorithm for each iteration.\n",
    "  - For each iteration, we run PSO and GWO for one iteration and record the best values.\n",
    "  - After all iterations, we plot the convergence curves using `matplotlib.pyplot`.\n",
    "- **Plots:**\n",
    "  - Two lines are plotted on the same graph, one for PSO and one for GWO.\n",
    "  - The x-axis represents the iteration number, and the y-axis represents the best value obtained by each algorithm.\n",
    "  - The plot title is \"PSO vs. GWO Convergence,\" and a legend indicates which line corresponds to which algorithm.\n",
    "\n",
    "This code block enables us to compare the convergence behavior of the PSO and GWO algorithms, helping us understand how well they optimize the target function.\n"
   ]
  },
  {
   "cell_type": "code",
   "execution_count": 21,
   "id": "fa82a50b",
   "metadata": {},
   "outputs": [
    {
     "name": "stdout",
     "output_type": "stream",
     "text": [
      "Best Solution (PSO): [ 0.36322286 -1.61654165]\n",
      "Best Value (PSO): 0.06485287084660346\n",
      "Best Solution (GWO): [-3.06838277e+46 -2.10702063e+46]\n",
      "Best Value (GWO): 1.3854508755657648e+93\n"
     ]
    },
    {
     "data": {
      "image/png": "[encoded data removed]",
      "text/plain": [
       "<Figure size 640x480 with 1 Axes>"
      ]
     },
     "metadata": {},
     "output_type": "display_data"
    }
   ],
   "source": [
    "\n",
    "\n",
    "# Example usage\n",
    "if __name__ == \"__main__\":\n",
    "    num_particles = 30\n",
    "    num_wolves = 30\n",
    "    num_dimensions = 2\n",
    "    num_iterations = 100\n",
    "\n",
    "    # Run PSO and GWO\n",
    "    pso_best_solution, pso_best_value = particle_swarm_optimization(num_dimensions, num_particles, num_iterations, 0.7, 1.5, 1.5)\n",
    "    gwo_best_solution, gwo_best_value = grey_wolf_optimization(num_wolves, num_dimensions, num_iterations)\n",
    "    \n",
    "    print(\"Best Solution (PSO):\", pso_best_solution)\n",
    "    print(\"Best Value (PSO):\", pso_best_value)\n",
    "    print(\"Best Solution (GWO):\", gwo_best_solution)\n",
    "    print(\"Best Value (GWO):\", gwo_best_value)\n",
    "    \n",
    "    # Plot convergence curves\n",
    "    pso_values = []  # Store PSO values for each iteration\n",
    "    gwo_values = []  # Store GWO values for each iteration\n",
    "    \n",
    "    for iteration in range(num_iterations):\n",
    "        # Run PSO\n",
    "        pso_best_solution, pso_best_value = particle_swarm_optimization(num_dimensions, num_particles, 1, 0.7, 1.5, 1.5)\n",
    "        pso_values.append(pso_best_value)\n",
    "        \n",
    "        # Run GWO\n",
    "        gwo_best_solution, gwo_best_value = grey_wolf_optimization(num_wolves, num_dimensions, 1)\n",
    "        gwo_values.append(gwo_best_value)\n",
    "    \n",
    "    # Plot the convergence curves\n",
    "    plt.figure()\n",
    "    plt.plot(range(1, num_iterations + 1), pso_values, label='PSO')\n",
    "    plt.plot(range(1, num_iterations + 1), gwo_values, label='GWO')\n",
    "    plt.xlabel('Iteration')\n",
    "    plt.ylabel('Best Value')\n",
    "    plt.title('PSO vs. GWO Convergence')\n",
    "    plt.legend()\n",
    "    plt.grid(True)\n",
    "    plt.show()\n"
   ]
  },
  {
   "cell_type": "code",
   "execution_count": null,
   "id": "2c35189e",
   "metadata": {},
   "outputs": [],
   "source": []
  }
 ],
 "metadata": {
  "kernelspec": {
   "display_name": "Python 3 (ipykernel)",
   "language": "python",
   "name": "python3"
  },
  "language_info": {
   "codemirror_mode": {
    "name": "ipython",
    "version": 3
   },
   "file_extension": ".py",
   "mimetype": "text/x-python",
   "name": "python",
   "nbconvert_exporter": "python",
   "pygments_lexer": "ipython3",
   "version": "3.10.8"
  }
 },
 "nbformat": 4,
 "nbformat_minor": 5
}
